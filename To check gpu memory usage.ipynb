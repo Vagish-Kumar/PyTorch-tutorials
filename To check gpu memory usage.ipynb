{
 "cells": [
  {
   "cell_type": "code",
   "execution_count": 1,
   "id": "a9ba8753",
   "metadata": {},
   "outputs": [],
   "source": [
    "import torch\n",
    "def check_memory():\n",
    "    allocated = torch.cuda.memory_allocated() / (1024 ** 3)  # Convert to GB (bytes>kb>mb)\n",
    "    reserved = torch.cuda.memory_reserved() / (1024 ** 3)    \n",
    "    print(f\"Memory allocated: {allocated:.2f} GB\")\n",
    "    print(f\"Memory reserved: {reserved:.2f} GB\")"
   ]
  }
 ],
 "metadata": {
  "kernelspec": {
   "display_name": "Python 3 (ipykernel)",
   "language": "python",
   "name": "python3"
  },
  "language_info": {
   "codemirror_mode": {
    "name": "ipython",
    "version": 3
   },
   "file_extension": ".py",
   "mimetype": "text/x-python",
   "name": "python",
   "nbconvert_exporter": "python",
   "pygments_lexer": "ipython3",
   "version": "3.10.9"
  }
 },
 "nbformat": 4,
 "nbformat_minor": 5
}
