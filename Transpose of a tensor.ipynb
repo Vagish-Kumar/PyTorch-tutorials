{
 "cells": [
  {
   "cell_type": "code",
   "execution_count": 2,
   "id": "b0a7deae",
   "metadata": {},
   "outputs": [
    {
     "name": "stdout",
     "output_type": "stream",
     "text": [
      "shape of transposed tensor:torch.Size([10, 3, 7, 5])\n"
     ]
    }
   ],
   "source": [
    "import  torch\n",
    "tensor = torch.rand(10,3,5,7)\n",
    "\n",
    "tensor_transposed = torch.transpose(tensor,2,3)\n",
    "\n",
    "print(f'shape of transposed tensor:{tensor_transposed.shape}')"
   ]
  }
 ],
 "metadata": {
  "kernelspec": {
   "display_name": "Python 3 (ipykernel)",
   "language": "python",
   "name": "python3"
  },
  "language_info": {
   "codemirror_mode": {
    "name": "ipython",
    "version": 3
   },
   "file_extension": ".py",
   "mimetype": "text/x-python",
   "name": "python",
   "nbconvert_exporter": "python",
   "pygments_lexer": "ipython3",
   "version": "3.10.9"
  }
 },
 "nbformat": 4,
 "nbformat_minor": 5
}
